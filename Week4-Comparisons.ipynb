{
 "cells": [
  {
   "cell_type": "markdown",
   "metadata": {},
   "source": [
    "### Week4 Peer graded assignment"
   ]
  },
  {
   "cell_type": "markdown",
   "metadata": {},
   "source": [
    "Now that you have been equipped with the skills and the tools to use location data to explore a geographical location, over the course of two weeks, you will have the opportunity to be as creative as you want and come up with an idea to leverage the Foursquare location data to explore or compare neighborhoods or cities of your choice or to come up with a problem that you can use the Foursquare location data to solve. If you cannot think of an idea or a problem, here are some ideas to get you started:\n",
    "\n",
    "In Module 3, we explored New York City and the city of Toronto and segmented and clustered their neighborhoods. Both cities are very diverse and are the financial capitals of their respective countries. One interesting idea would be to compare the neighborhoods of the two cities and determine how similar or dissimilar they are. \n",
    "* Is New York City more like Toronto or Paris or some other multicultural city? I will leave it to you to refine this idea.\n",
    "* In a city of your choice, if someone is looking to open a restaurant, where would you recommend that they open it? Similarly, if a contractor is trying to start their own business, where would you recommend that they setup their office?\n",
    "These are just a couple of many ideas and problems that can be solved using location data in addition to other datasets. No matter what you decide to do, make sure to provide sufficient justification of why you think what you want to do or solve is important and why would a client or a group of people be interested in your project.\n"
   ]
  },
  {
   "cell_type": "markdown",
   "metadata": {},
   "source": [
    "#### For this week, you will required to submit the following:\n",
    "\n",
    "* A description of the problem and a discussion of the background. (15 marks)\n",
    "* A description of the data and how it will be used to solve the problem. (15 marks)\n",
    "For the second week, the final deliverables of the project will be:\n",
    "\n",
    "* A link to your Notebook on your Github repository, showing your code. (15 marks)\n",
    "* A full report consisting of all of the following components (15 marks):\n",
    "\n",
    "* Introduction where you discuss the business problem and who would be interested in this project.\n",
    "* Data where you describe the data that will be used to solve the problem and the source of the data.\n",
    "* Methodology section which represents the main component of the report where you discuss and describe any exploratory data analysis that you did, any inferential statistical testing that you performed, if any, and what machine learnings were used and why.\n",
    "* Results section where you discuss the results.\n",
    "* Discussion section where you discuss any observations you noted and any recommendations you can make based on the results.\n",
    "* Conclusion section where you conclude the report.\n",
    "* Your choice of a presentation or blogpost. (10 marks)"
   ]
  },
  {
   "cell_type": "markdown",
   "metadata": {},
   "source": [
    "### Data description\n",
    "I have decided to compare Toronto and Cape Town data in the final project. I have already scraped the data for Cape Town in https://github.com/pieterdt1979/coursera_capstone/blob/master/Cape_Town_Data.ipynb and saved the data to a CSV so it can loaded easily again. The one city is in a developed country, where is the other is in a developing country.\n",
    "The average GDP per capita in Canada is about 51000 USD as per https://tradingeconomics.com/canada/gdp-per-capita\n",
    "The average GDP per capita for South-Africa is 7000 USD as per https://tradingeconomics.com/south-africa/gdp-per-capita \n",
    "So it would be nice to compare these two cities\n",
    "I will also be importing historical economic data from tradingeconomics.com for both countries"
   ]
  },
  {
   "cell_type": "code",
   "execution_count": 14,
   "metadata": {},
   "outputs": [],
   "source": [
    "# Importing all the modules that will be needed\n",
    "# !pip3 install tradingeconomics\n",
    "import pandas as pd\n",
    "import numpy as np\n",
    "import seaborn as sns\n",
    "%matplotlib inline\n",
    "import matplotlib as mpl\n",
    "import matplotlib.pyplot as plt\n",
    "mpl.style.use('ggplot')\n",
    "import tradingeconomics as te # This will be used to pull economic data for the two countries\n",
    "from requests import get  # To scrape cost of living as well from:\n",
    "                         # https://www.expatistan.com/cost-of-living/toronto?currency=ZAR\n",
    "                        # https://www.expatistan.com/cost-of-living/cape-town?currency=CAD\n",
    "import tradingeconomics as te\n",
    "import folium\n",
    "from sklearn.cluster import KMeans\n",
    "import json"
   ]
  },
  {
   "cell_type": "code",
   "execution_count": 48,
   "metadata": {
    "scrolled": true
   },
   "outputs": [
    {
     "name": "stdout",
     "output_type": "stream",
     "text": [
      "       Borough   Neighbourhood   Latitude  Longitude\n",
      "0  Scarborough  Rouge, Malvern  43.806686 -79.194353\n",
      "_________________________________________________________________________\n",
      "  Borough Neighbourhood   Latitude  Longitude\n",
      "0   Bronx     Wakefield  40.894705 -73.847201\n",
      "_________________________________________________________________________\n",
      "      Borough Neighbourhood   Latitude  Longitude\n",
      "0  Cape Flats         Delft -33.965556  18.644444\n"
     ]
    }
   ],
   "source": [
    "# Load the previously scraped data\n",
    "toronto_data = pd.read_csv('toronto_data.csv')\n",
    "capetown_data = pd.read_csv('cape_town_data.csv')\n",
    "newyork_data = pd.read_csv('newyork_data.csv')\n",
    "newyork_data.drop(columns=['Unnamed: 0'], inplace=True)\n",
    "newyork_data.rename(columns={'Neighborhood':'Neighbourhood'}, inplace=True) # In South-Africa we speak a different type of English :)\n",
    "toronto_data = toronto_data[['Borough', 'Neighbourhood', 'Latitude', 'Longitude']]\n",
    "capetown_data = capetown_data[['Borough', 'Neighbourhood', 'Latitude', 'Longitude']]\n",
    "print(toronto_data.head(1))\n",
    "print('_________________________________________________________________________')\n",
    "print(newyork_data.head(1))\n",
    "print('_________________________________________________________________________')\n",
    "print(capetown_data.head(1))"
   ]
  },
  {
   "cell_type": "code",
   "execution_count": 119,
   "metadata": {},
   "outputs": [],
   "source": [
    "#Function to get the nearby venues\n",
    "def getNearbyVenues(names, latitudes, longitudes, radius=5000, categoryids=[]):\n",
    "    \n",
    "    venues_list=[]\n",
    "    for name, lat, lng in zip(names, latitudes, longitudes):\n",
    "        print(name)\n",
    "            \n",
    "        # create the API request URL\n",
    "        url = 'https://api.foursquare.com/v2/venues/explore?&client_id={}&client_secret={}&v={}&ll={},{}&radius={}&limit={}'.format(\n",
    "            CLIENT_ID, \n",
    "            CLIENT_SECRET, \n",
    "            VERSION, \n",
    "            lat, \n",
    "            lng, \n",
    "            radius, \n",
    "            LIMIT)\n",
    "        \n",
    "        if len(categoryids) > 0:\n",
    "            url = url + '&categoryId={}'.format(','.join(categoryids))\n",
    "            \n",
    "        # make the GET request\n",
    "        results = get(url).json()[\"response\"]['groups'][0]['items']\n",
    "        \n",
    "        # return only relevant information for each nearby venue\n",
    "        try:    \n",
    "            venues_list.append([(\n",
    "                name, \n",
    "                lat, \n",
    "                lng, \n",
    "                v['venue']['name'], \n",
    "                v['venue']['location']['lat'], \n",
    "                v['venue']['location']['lng'],  \n",
    "                v['venue']['categories'][0]['name']) for v in results])\n",
    "        except:\n",
    "            pass\n",
    "    try:\n",
    "        nearby_venues = pd.DataFrame([item for venue_list in venues_list for item in venue_list])\n",
    "        nearby_venues.columns = ['Neighbourhood', \n",
    "              'Neighbourhood Latitude', \n",
    "              'Neighbourhood Longitude', \n",
    "              'Venue', \n",
    "              'Venue Latitude', \n",
    "              'Venue Longitude', \n",
    "              'Venue Category']\n",
    "    except:\n",
    "        nearby_venues = pd.DataFrame(columns=['Neighbourhood', \n",
    "                  'Neighbourhood Latitude', \n",
    "                  'Neighbourhood Longitude', \n",
    "                  'Venue', \n",
    "                  'Venue Latitude', \n",
    "                  'Venue Longitude', \n",
    "                  'Venue Category'])\n",
    "\n",
    "    \n",
    "    return(nearby_venues)"
   ]
  },
  {
   "cell_type": "code",
   "execution_count": 32,
   "metadata": {},
   "outputs": [],
   "source": [
    "CLIENT_ID = 'LH2OJQC5DUE5Y3TQZVD3DXDH2A3ASD5MANEVAKEMGDJN0HWT' # your Foursquare ID\n",
    "CLIENT_SECRET = 'YRM0HCKVDAG5GJU1JYCKPMUWJD0IZUVF1N0ZY3GRKLC3MXT3' # your Foursquare Secret\n",
    "VERSION = '20191005' # Foursquare API version\n",
    "LIMIT = 200"
   ]
  },
  {
   "cell_type": "code",
   "execution_count": 120,
   "metadata": {},
   "outputs": [
    {
     "name": "stdout",
     "output_type": "stream",
     "text": [
      "Lawrence Park\n",
      "Davisville North\n",
      "North Toronto West\n",
      "Davisville\n",
      "Moore Park, Summerhill East\n",
      "Deer Park, Forest Hill SE, Rathnelly, South Hill, Summerhill West\n",
      "Roselawn\n",
      "Forest Hill North, Forest Hill West\n",
      "The Annex, North Midtown, Yorkville\n",
      "Hout Bay, Imizamo Yethu, Llandudno\n",
      "Bakoven, Bantry Bay, Camps Bay, Clifton, Fresnaye, Green Point, Mouille Point, Sea Point, Three Anchor Bay\n",
      "Marble Hill\n",
      "Chinatown\n",
      "Washington Heights\n",
      "Inwood\n",
      "Hamilton Heights\n",
      "Manhattanville\n",
      "Central Harlem\n",
      "East Harlem\n",
      "Upper East Side\n",
      "Yorkville\n",
      "Lenox Hill\n",
      "Roosevelt Island\n",
      "Upper West Side\n",
      "Lincoln Square\n",
      "Clinton\n",
      "Midtown\n",
      "Murray Hill\n",
      "Chelsea\n",
      "Greenwich Village\n",
      "East Village\n",
      "Lower East Side\n",
      "Tribeca\n",
      "Little Italy\n",
      "Soho\n",
      "West Village\n",
      "Manhattan Valley\n",
      "Morningside Heights\n",
      "Gramercy\n",
      "Battery Park City\n",
      "Financial District\n",
      "Carnegie Hill\n",
      "Noho\n",
      "Civic Center\n",
      "Midtown South\n",
      "Sutton Place\n",
      "Turtle Bay\n",
      "Tudor City\n",
      "Stuyvesant Town\n",
      "Flatiron\n",
      "Hudson Yards\n"
     ]
    }
   ],
   "source": [
    "african = '4bf58dd8d48988d1c8941735' # We will only be looking for the African Restaurant Categories\n",
    "bakeries = '4bf58dd8d48988d16a941735' # And also check for the suppliers in the areas\n",
    "butchers = '4bf58dd8d48988d11d951735'\n",
    "farmersmarkets = '4bf58dd8d48988d1fa941735'\n",
    "categories = [african, bakeries, butchers, farmersmarkets]\n",
    "toronto_neighbourhoods = toronto_data[toronto_data['Borough'] == 'Central Toronto'].reset_index(drop=True)\n",
    "capetown_neighbourhoods = capetown_data[capetown_data['Borough'] == 'Atlantic Seaboard'].reset_index(drop=True)\n",
    "newyork_neighbourhoods = newyork_data[newyork_data['Borough'] == 'Manhattan'].reset_index(drop=True)\n",
    "central_toronto_venues = getNearbyVenues(names=toronto_neighbourhoods['Neighbourhood'], \n",
    "                                             latitudes=toronto_neighbourhoods['Latitude'],\n",
    "                                             longitudes=toronto_neighbourhoods['Longitude'],\n",
    "                                             radius=3000, categoryids=categories)\n",
    "cpt_atlantic_venues = getNearbyVenues(names=capetown_neighbourhoods['Neighbourhood'], \n",
    "                                             latitudes=capetown_neighbourhoods['Latitude'],\n",
    "                                             longitudes=capetown_neighbourhoods['Longitude'],\n",
    "                                             radius=6000, categoryids=categories) #Not as densly populated as the other two cities\n",
    "ny_manhattan_venues = getNearbyVenues(names=newyork_neighbourhoods['Neighbourhood'], \n",
    "                                             latitudes=newyork_neighbourhoods['Latitude'],\n",
    "                                             longitudes=newyork_neighbourhoods['Longitude'],\n",
    "                                             radius=1000, categoryids=categories) # Using a smaller radius for NY as it is more densly populated than the other 2 cities"
   ]
  },
  {
   "cell_type": "code",
   "execution_count": 121,
   "metadata": {
    "scrolled": true
   },
   "outputs": [
    {
     "name": "stdout",
     "output_type": "stream",
     "text": [
      "There are 15 uniques categories for Central Toronto.\n",
      "There are 37 uniques categories for Manhattan.\n",
      "There are 16 uniques categories for Cape Town.\n"
     ]
    }
   ],
   "source": [
    "print('There are {} uniques categories for Central Toronto.'.format(len(central_toronto_venues['Venue Category'].unique())))\n",
    "print('There are {} uniques categories for Manhattan.'.format(len(ny_manhattan_venues['Venue Category'].unique())))\n",
    "print('There are {} uniques categories for Cape Town.'.format(len(cpt_atlantic_venues['Venue Category'].unique())))"
   ]
  },
  {
   "cell_type": "code",
   "execution_count": 122,
   "metadata": {},
   "outputs": [
    {
     "name": "stdout",
     "output_type": "stream",
     "text": [
      "   Neighbourhood  African Restaurant  Bakery  Butcher  Chocolate Shop  \\\n",
      "0  Lawrence Park                   0       1        0               0   \n",
      "\n",
      "   Ethiopian Restaurant  Farmers Market  Food & Drink Shop  Food Court  \\\n",
      "0                     0               0                  0           0   \n",
      "\n",
      "   Grocery Store  Hardware Store  Market  Portuguese Restaurant  Restaurant  \\\n",
      "0              0               0       0                      0           0   \n",
      "\n",
      "   Supermarket  Tea Room  \n",
      "0            0         0  \n",
      "  Neighbourhood  African Restaurant  Asian Restaurant  BBQ Joint  Bakery  Bar  \\\n",
      "0   Marble Hill                   0                 0          0       1    0   \n",
      "\n",
      "   Bookstore  Butcher  Café  Coffee Shop  ...  Pub  Sandwich Place  School  \\\n",
      "0          0        0     0            0  ...    0               0       0   \n",
      "\n",
      "   Shopping Mall  Steakhouse  Supermarket  Tea Room  Vietnamese Restaurant  \\\n",
      "0              0           0            0         0                      0   \n",
      "\n",
      "   Wine Bar  Wine Shop  \n",
      "0         0          0  \n",
      "\n",
      "[1 rows x 38 columns]\n",
      "                        Neighbourhood  African Restaurant  Bakery  Bar  \\\n",
      "0  Hout Bay, Imizamo Yethu, Llandudno                   0       1    0   \n",
      "\n",
      "   Butcher  Café  Coffee Shop  Deli / Bodega  Ethiopian Restaurant  \\\n",
      "0        0     0            0              0                     0   \n",
      "\n",
      "   Flea Market  Gastropub  Grocery Store  Hotel  Indian Restaurant  \\\n",
      "0            0          0              0      0                  0   \n",
      "\n",
      "   Malay Restaurant  Market  Restaurant  \n",
      "0                 0       0           0  \n"
     ]
    }
   ],
   "source": [
    "# Encode the data for each City\n",
    "# one hot encoding\n",
    "toronto_onehot = pd.get_dummies(central_toronto_venues[['Venue Category']], prefix=\"\", prefix_sep=\"\")\n",
    "manhattan_onehot = pd.get_dummies(ny_manhattan_venues[['Venue Category']], prefix=\"\", prefix_sep=\"\")\n",
    "cpt_onehot = pd.get_dummies(cpt_atlantic_venues[['Venue Category']], prefix=\"\", prefix_sep=\"\")\n",
    "# add neighbourhood column back to dataframe\n",
    "toronto_onehot['Neighbourhood'] = central_toronto_venues['Neighbourhood'] \n",
    "manhattan_onehot['Neighbourhood'] = ny_manhattan_venues['Neighbourhood'] \n",
    "cpt_onehot['Neighbourhood'] = cpt_atlantic_venues['Neighbourhood'] \n",
    "# move neighbourhood column to the first column\n",
    "tor_fixed_columns = [toronto_onehot.columns[-1]] + list(toronto_onehot.columns[:-1])\n",
    "toronto_onehot = toronto_onehot[tor_fixed_columns]\n",
    "ny_fixed_columns = [manhattan_onehot.columns[-1]] + list(manhattan_onehot.columns[:-1])\n",
    "manhattan_onehot = manhattan_onehot[ny_fixed_columns]\n",
    "cpt_fixed_columns = [cpt_onehot.columns[-1]] + list(cpt_onehot.columns[:-1])\n",
    "cpt_onehot = cpt_onehot[cpt_fixed_columns]\n",
    "print(toronto_onehot.head(1))\n",
    "print(manhattan_onehot.head(1))\n",
    "print(cpt_onehot.head(1))"
   ]
  },
  {
   "cell_type": "code",
   "execution_count": 123,
   "metadata": {},
   "outputs": [
    {
     "name": "stdout",
     "output_type": "stream",
     "text": [
      "Toronto shape:  (436, 16)\n",
      "Manhattan shape:  (2163, 38)\n",
      "Cape Town shape:  (49, 17)\n"
     ]
    }
   ],
   "source": [
    "print('Toronto shape: ',toronto_onehot.shape)\n",
    "print('Manhattan shape: ',manhattan_onehot.shape)\n",
    "print('Cape Town shape: ', cpt_onehot.shape)"
   ]
  },
  {
   "cell_type": "code",
   "execution_count": 126,
   "metadata": {},
   "outputs": [],
   "source": [
    "toronto_grouped = toronto_onehot.groupby('Neighbourhood').mean().reset_index()\n",
    "manhattan_grouped = manhattan_onehot.groupby('Neighbourhood').mean().reset_index()\n",
    "cpt_grouped = cpt_onehot.groupby('Neighbourhood').mean().reset_index()"
   ]
  },
  {
   "cell_type": "code",
   "execution_count": 127,
   "metadata": {},
   "outputs": [
    {
     "data": {
      "text/html": [
       "<div>\n",
       "<style scoped>\n",
       "    .dataframe tbody tr th:only-of-type {\n",
       "        vertical-align: middle;\n",
       "    }\n",
       "\n",
       "    .dataframe tbody tr th {\n",
       "        vertical-align: top;\n",
       "    }\n",
       "\n",
       "    .dataframe thead th {\n",
       "        text-align: right;\n",
       "    }\n",
       "</style>\n",
       "<table border=\"1\" class=\"dataframe\">\n",
       "  <thead>\n",
       "    <tr style=\"text-align: right;\">\n",
       "      <th></th>\n",
       "      <th>Neighbourhood</th>\n",
       "      <th>African Restaurant</th>\n",
       "      <th>Bakery</th>\n",
       "      <th>Bar</th>\n",
       "      <th>Butcher</th>\n",
       "      <th>Café</th>\n",
       "      <th>Coffee Shop</th>\n",
       "      <th>Deli / Bodega</th>\n",
       "      <th>Ethiopian Restaurant</th>\n",
       "      <th>Flea Market</th>\n",
       "      <th>Gastropub</th>\n",
       "      <th>Grocery Store</th>\n",
       "      <th>Hotel</th>\n",
       "      <th>Indian Restaurant</th>\n",
       "      <th>Malay Restaurant</th>\n",
       "      <th>Market</th>\n",
       "      <th>Restaurant</th>\n",
       "    </tr>\n",
       "  </thead>\n",
       "  <tbody>\n",
       "    <tr>\n",
       "      <th>0</th>\n",
       "      <td>Bakoven, Bantry Bay, Camps Bay, Clifton, Fresn...</td>\n",
       "      <td>0.222222</td>\n",
       "      <td>0.377778</td>\n",
       "      <td>0.022222</td>\n",
       "      <td>0.022222</td>\n",
       "      <td>0.066667</td>\n",
       "      <td>0.022222</td>\n",
       "      <td>0.022222</td>\n",
       "      <td>0.044444</td>\n",
       "      <td>0.022222</td>\n",
       "      <td>0.022222</td>\n",
       "      <td>0.022222</td>\n",
       "      <td>0.044444</td>\n",
       "      <td>0.022222</td>\n",
       "      <td>0.022222</td>\n",
       "      <td>0.022222</td>\n",
       "      <td>0.022222</td>\n",
       "    </tr>\n",
       "    <tr>\n",
       "      <th>1</th>\n",
       "      <td>Hout Bay, Imizamo Yethu, Llandudno</td>\n",
       "      <td>0.750000</td>\n",
       "      <td>0.250000</td>\n",
       "      <td>0.000000</td>\n",
       "      <td>0.000000</td>\n",
       "      <td>0.000000</td>\n",
       "      <td>0.000000</td>\n",
       "      <td>0.000000</td>\n",
       "      <td>0.000000</td>\n",
       "      <td>0.000000</td>\n",
       "      <td>0.000000</td>\n",
       "      <td>0.000000</td>\n",
       "      <td>0.000000</td>\n",
       "      <td>0.000000</td>\n",
       "      <td>0.000000</td>\n",
       "      <td>0.000000</td>\n",
       "      <td>0.000000</td>\n",
       "    </tr>\n",
       "  </tbody>\n",
       "</table>\n",
       "</div>"
      ],
      "text/plain": [
       "                                       Neighbourhood  African Restaurant  \\\n",
       "0  Bakoven, Bantry Bay, Camps Bay, Clifton, Fresn...            0.222222   \n",
       "1                 Hout Bay, Imizamo Yethu, Llandudno            0.750000   \n",
       "\n",
       "     Bakery       Bar   Butcher      Café  Coffee Shop  Deli / Bodega  \\\n",
       "0  0.377778  0.022222  0.022222  0.066667     0.022222       0.022222   \n",
       "1  0.250000  0.000000  0.000000  0.000000     0.000000       0.000000   \n",
       "\n",
       "   Ethiopian Restaurant  Flea Market  Gastropub  Grocery Store     Hotel  \\\n",
       "0              0.044444     0.022222   0.022222       0.022222  0.044444   \n",
       "1              0.000000     0.000000   0.000000       0.000000  0.000000   \n",
       "\n",
       "   Indian Restaurant  Malay Restaurant    Market  Restaurant  \n",
       "0           0.022222          0.022222  0.022222    0.022222  \n",
       "1           0.000000          0.000000  0.000000    0.000000  "
      ]
     },
     "execution_count": 127,
     "metadata": {},
     "output_type": "execute_result"
    }
   ],
   "source": []
  },
  {
   "cell_type": "code",
   "execution_count": null,
   "metadata": {},
   "outputs": [],
   "source": []
  }
 ],
 "metadata": {
  "kernelspec": {
   "display_name": "Python 3",
   "language": "python",
   "name": "python3"
  },
  "language_info": {
   "codemirror_mode": {
    "name": "ipython",
    "version": 3
   },
   "file_extension": ".py",
   "mimetype": "text/x-python",
   "name": "python",
   "nbconvert_exporter": "python",
   "pygments_lexer": "ipython3",
   "version": "3.7.3"
  }
 },
 "nbformat": 4,
 "nbformat_minor": 2
}
