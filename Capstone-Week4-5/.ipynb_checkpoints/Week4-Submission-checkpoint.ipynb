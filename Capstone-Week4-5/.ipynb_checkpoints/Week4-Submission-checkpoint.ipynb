{
 "cells": [
  {
   "cell_type": "markdown",
   "metadata": {},
   "source": [
    "## Capstone Project Battle of the Neighbourhoods - Week4"
   ]
  },
  {
   "cell_type": "markdown",
   "metadata": {},
   "source": [
    "#### Problem\n",
    "Description: If an international investor wants to open a business, and has a choice of 3 Cities, New York, Toronto and Cape Town. Which of these cities will be a good investment. If we take into consideration GDP per capita, labour costs and market saturation. How much competition is there, and how much will people be willing to spend on a specific product. How does the taxes compare for the 3 different countries? All these are questions an investor might have. The business that the investor is setting up is a tech startup whose primary focus is App and Web development for Night Clubs. Intially he will only have about 10 employees that will telecomute, he wants to give the employees a good living standard, but also wants to turn a profit within a year. \n"
   ]
  },
  {
   "cell_type": "markdown",
   "metadata": {},
   "source": [
    "### Data description\n",
    "I will be looking at Financial Data for the 3 countries in which these 3 cities are located. I will also be looking at cost of living for all 3 cities this data will be obtained from www.tradingeconomics.com and www.expatistan.com respectively. I will use the foursquare API to map the locations of the top 10 night clubs in these cities and check if there are any techstartups in their vicinity that might give competition."
   ]
  },
  {
   "cell_type": "code",
   "execution_count": null,
   "metadata": {},
   "outputs": [],
   "source": []
  }
 ],
 "metadata": {
  "kernelspec": {
   "display_name": "Python 3",
   "language": "python",
   "name": "python3"
  },
  "language_info": {
   "codemirror_mode": {
    "name": "ipython",
    "version": 3
   },
   "file_extension": ".py",
   "mimetype": "text/x-python",
   "name": "python",
   "nbconvert_exporter": "python",
   "pygments_lexer": "ipython3",
   "version": "3.7.3"
  }
 },
 "nbformat": 4,
 "nbformat_minor": 2
}
